{
 "cells": [
  {
   "cell_type": "code",
   "execution_count": 135,
   "metadata": {},
   "outputs": [],
   "source": [
    "import openai\n",
    "openai.api_key = ''\n"
   ]
  },
  {
   "cell_type": "code",
   "execution_count": 4,
   "metadata": {},
   "outputs": [
    {
     "data": {
      "text/plain": [
       "'Check blind spot and safely change lanes to the left.'"
      ]
     },
     "execution_count": 4,
     "metadata": {},
     "output_type": "execute_result"
    }
   ],
   "source": [
    "response = openai.ChatCompletion.create(\n",
    "    model=\"gpt-3.5-turbo\",\n",
    "    messages=[\n",
    "        {\"role\": \"system\", \"content\": \"You are a car driving on a 2 lane road and only reply in discrete actions, nothing else.\"},\n",
    "        {\"role\": \"user\", \"content\": \"An ambulance is visible in the right rearview mirror at the back. Output one discrete move.\"},\n",
    "    ]\n",
    ")\n",
    "response['choices'][0]['message']['content']"
   ]
  },
  {
   "cell_type": "code",
   "execution_count": 6,
   "metadata": {},
   "outputs": [
    {
     "data": {
      "text/plain": [
       "<File file id=file-8jQcpk2Xx3BJC00bDPvNLX0H at 0x103581d60> JSON: {\n",
       "  \"object\": \"file\",\n",
       "  \"id\": \"file-8jQcpk2Xx3BJC00bDPvNLX0H\",\n",
       "  \"purpose\": \"fine-tune\",\n",
       "  \"filename\": \"file\",\n",
       "  \"bytes\": 5953,\n",
       "  \"created_at\": 1699132240,\n",
       "  \"status\": \"processed\",\n",
       "  \"status_details\": null\n",
       "}"
      ]
     },
     "execution_count": 6,
     "metadata": {},
     "output_type": "execute_result"
    }
   ],
   "source": [
    "#A good example would be India vs USA\n",
    "import os\n",
    "openai.File.create(\n",
    "  file=open(\"finetuning_usa.jsonl\", \"rb\"),\n",
    "  purpose='fine-tune'\n",
    ")"
   ]
  },
  {
   "cell_type": "code",
   "execution_count": 7,
   "metadata": {},
   "outputs": [
    {
     "data": {
      "text/plain": [
       "<FineTuningJob fine_tuning.job id=ftjob-cxVKNr9eDBDqzuzn3tZ5hCNN at 0x1048a7900> JSON: {\n",
       "  \"object\": \"fine_tuning.job\",\n",
       "  \"id\": \"ftjob-cxVKNr9eDBDqzuzn3tZ5hCNN\",\n",
       "  \"model\": \"gpt-3.5-turbo-0613\",\n",
       "  \"created_at\": 1699132260,\n",
       "  \"finished_at\": null,\n",
       "  \"fine_tuned_model\": null,\n",
       "  \"organization_id\": \"org-ecY61ZB4TdGVh3IDgqw8qhjF\",\n",
       "  \"result_files\": [],\n",
       "  \"status\": \"validating_files\",\n",
       "  \"validation_file\": null,\n",
       "  \"training_file\": \"file-8jQcpk2Xx3BJC00bDPvNLX0H\",\n",
       "  \"hyperparameters\": {\n",
       "    \"n_epochs\": \"auto\"\n",
       "  },\n",
       "  \"trained_tokens\": null,\n",
       "  \"error\": null\n",
       "}"
      ]
     },
     "execution_count": 7,
     "metadata": {},
     "output_type": "execute_result"
    }
   ],
   "source": [
    "openai.FineTuningJob.create(training_file=\"file-8jQcpk2Xx3BJC00bDPvNLX0H\", model=\"gpt-3.5-turbo\")"
   ]
  },
  {
   "cell_type": "code",
   "execution_count": 13,
   "metadata": {},
   "outputs": [
    {
     "data": {
      "text/plain": [
       "<FineTuningJob fine_tuning.job id=ftjob-cxVKNr9eDBDqzuzn3tZ5hCNN at 0x10edb0c20> JSON: {\n",
       "  \"object\": \"fine_tuning.job\",\n",
       "  \"id\": \"ftjob-cxVKNr9eDBDqzuzn3tZ5hCNN\",\n",
       "  \"model\": \"gpt-3.5-turbo-0613\",\n",
       "  \"created_at\": 1699132260,\n",
       "  \"finished_at\": 1699132633,\n",
       "  \"fine_tuned_model\": \"ft:gpt-3.5-turbo-0613:personal::8HIJ0IZB\",\n",
       "  \"organization_id\": \"org-ecY61ZB4TdGVh3IDgqw8qhjF\",\n",
       "  \"result_files\": [\n",
       "    \"file-xk31ZveQOphIOatCxO5dHbhY\"\n",
       "  ],\n",
       "  \"status\": \"succeeded\",\n",
       "  \"validation_file\": null,\n",
       "  \"training_file\": \"file-8jQcpk2Xx3BJC00bDPvNLX0H\",\n",
       "  \"hyperparameters\": {\n",
       "    \"n_epochs\": 6\n",
       "  },\n",
       "  \"trained_tokens\": 5922,\n",
       "  \"error\": null\n",
       "}"
      ]
     },
     "execution_count": 13,
     "metadata": {},
     "output_type": "execute_result"
    }
   ],
   "source": [
    "openai.FineTuningJob.retrieve(\"ftjob-cxVKNr9eDBDqzuzn3tZ5hCNN\")"
   ]
  },
  {
   "cell_type": "code",
   "execution_count": 23,
   "metadata": {},
   "outputs": [
    {
     "data": {
      "text/plain": [
       "'check surrounding traffic; if safe, move into the right lane'"
      ]
     },
     "execution_count": 23,
     "metadata": {},
     "output_type": "execute_result"
    }
   ],
   "source": [
    "response = openai.ChatCompletion.create(\n",
    "    model=\"ft:gpt-3.5-turbo-0613:personal::8HIJ0IZB\",\n",
    "    messages=[\n",
    "        {\"role\": \"system\", \"content\": \"You are a language model that outputs discrete actions to control a car based on information and your country's laws\"},\n",
    "        {\"role\": \"user\", \"content\": \"An ambulance is visible in the rearview mirror. It is a 2 lane road. Output discrete moves.\"},\n",
    "    ]\n",
    ")\n",
    "response['choices'][0]['message']['content']"
   ]
  },
  {
   "cell_type": "code",
   "execution_count": 24,
   "metadata": {},
   "outputs": [
    {
     "data": {
      "text/plain": [
       "<File file id=file-Lk2cjc8MmeF4SmJN3NYqkHAY at 0x10edaeb30> JSON: {\n",
       "  \"object\": \"file\",\n",
       "  \"id\": \"file-Lk2cjc8MmeF4SmJN3NYqkHAY\",\n",
       "  \"purpose\": \"fine-tune\",\n",
       "  \"filename\": \"file\",\n",
       "  \"bytes\": 10725,\n",
       "  \"created_at\": 1699156079,\n",
       "  \"status\": \"processed\",\n",
       "  \"status_details\": null\n",
       "}"
      ]
     },
     "execution_count": 24,
     "metadata": {},
     "output_type": "execute_result"
    }
   ],
   "source": [
    "#A good example would be India vs USA\n",
    "import os\n",
    "openai.File.create(\n",
    "  file=open(\"finetuning_india.jsonl\", \"rb\"),\n",
    "  purpose='fine-tune'\n",
    ")"
   ]
  },
  {
   "cell_type": "code",
   "execution_count": 25,
   "metadata": {},
   "outputs": [
    {
     "data": {
      "text/plain": [
       "<FineTuningJob fine_tuning.job id=ftjob-eSmLP3mWA6pernoB6iBVAmur at 0x10edb3b30> JSON: {\n",
       "  \"object\": \"fine_tuning.job\",\n",
       "  \"id\": \"ftjob-eSmLP3mWA6pernoB6iBVAmur\",\n",
       "  \"model\": \"gpt-3.5-turbo-0613\",\n",
       "  \"created_at\": 1699156103,\n",
       "  \"finished_at\": null,\n",
       "  \"fine_tuned_model\": null,\n",
       "  \"organization_id\": \"org-ecY61ZB4TdGVh3IDgqw8qhjF\",\n",
       "  \"result_files\": [],\n",
       "  \"status\": \"validating_files\",\n",
       "  \"validation_file\": null,\n",
       "  \"training_file\": \"file-Lk2cjc8MmeF4SmJN3NYqkHAY\",\n",
       "  \"hyperparameters\": {\n",
       "    \"n_epochs\": \"auto\"\n",
       "  },\n",
       "  \"trained_tokens\": null,\n",
       "  \"error\": null\n",
       "}"
      ]
     },
     "execution_count": 25,
     "metadata": {},
     "output_type": "execute_result"
    }
   ],
   "source": [
    "openai.FineTuningJob.create(training_file=\"file-Lk2cjc8MmeF4SmJN3NYqkHAY\", model=\"gpt-3.5-turbo\")"
   ]
  },
  {
   "cell_type": "code",
   "execution_count": 36,
   "metadata": {},
   "outputs": [
    {
     "data": {
      "text/plain": [
       "<FineTuningJob fine_tuning.job id=ftjob-eSmLP3mWA6pernoB6iBVAmur at 0x10edcd360> JSON: {\n",
       "  \"object\": \"fine_tuning.job\",\n",
       "  \"id\": \"ftjob-eSmLP3mWA6pernoB6iBVAmur\",\n",
       "  \"model\": \"gpt-3.5-turbo-0613\",\n",
       "  \"created_at\": 1699156103,\n",
       "  \"finished_at\": 1699156465,\n",
       "  \"fine_tuned_model\": \"ft:gpt-3.5-turbo-0613:personal::8HOVOV4Y\",\n",
       "  \"organization_id\": \"org-ecY61ZB4TdGVh3IDgqw8qhjF\",\n",
       "  \"result_files\": [\n",
       "    \"file-1xuVBnyksu60lMPewj7Yumnz\"\n",
       "  ],\n",
       "  \"status\": \"succeeded\",\n",
       "  \"validation_file\": null,\n",
       "  \"training_file\": \"file-Lk2cjc8MmeF4SmJN3NYqkHAY\",\n",
       "  \"hyperparameters\": {\n",
       "    \"n_epochs\": 4\n",
       "  },\n",
       "  \"trained_tokens\": 7528,\n",
       "  \"error\": null\n",
       "}"
      ]
     },
     "execution_count": 36,
     "metadata": {},
     "output_type": "execute_result"
    }
   ],
   "source": [
    "openai.FineTuningJob.retrieve(\"ftjob-eSmLP3mWA6pernoB6iBVAmur\")"
   ]
  },
  {
   "cell_type": "code",
   "execution_count": 76,
   "metadata": {},
   "outputs": [
    {
     "name": "stdout",
     "output_type": "stream",
     "text": [
      "USA:  maintain position\n",
      "India:  signal left. move to the left lane or pull over to the left side of the road if it is safe so the ambulance can pass on the right\n"
     ]
    }
   ],
   "source": [
    "#US MODEL: ft:gpt-3.5-turbo-0613:personal::8HIJ0IZB\n",
    "#INDIA MODEL: ft:gpt-3.5-turbo-0613:personal::8HOVOV4Y\n",
    "#Base template\n",
    "response1 = openai.ChatCompletion.create(\n",
    "    model=\"ft:gpt-3.5-turbo-0613:personal::8HIJ0IZB\",\n",
    "    messages=[\n",
    "        {\"role\": \"system\", \"content\": \"You are a language model that outputs discrete actions to control a car based on information and your country's laws.\"},\n",
    "        {\"role\": \"user\", \"content\": \"You are in the right lane. An ambulance is visible in the rearview mirror on the left side. It is a 2 lane road.  Output what side you will move to.\"},\n",
    "    ]\n",
    ")\n",
    "print(\"USA: \", response1['choices'][0]['message']['content'])\n",
    "\n",
    "response2 = openai.ChatCompletion.create(\n",
    "    model=\"ft:gpt-3.5-turbo-0613:personal::8HOVOV4Y\",\n",
    "    messages=[\n",
    "        {\"role\": \"system\", \"content\": \"You are a language model that outputs clear discrete actions to control a car based on information and your country's laws\"},\n",
    "        {\"role\": \"user\", \"content\": \"You are in the right lane. An ambulance is visible in the rearview mirror on the left side. It is a 2 lane road. Output what side you will move to.\"},\n",
    "    ]\n",
    ")\n",
    "print(\"India: \", response2['choices'][0]['message']['content'])\n",
    "\n"
   ]
  },
  {
   "cell_type": "code",
   "execution_count": 131,
   "metadata": {},
   "outputs": [],
   "source": [
    "def discrete_distill(model_ouputs):\n",
    "    response = openai.ChatCompletion.create(\n",
    "        model=\"gpt-3.5-turbo\",\n",
    "        messages=[\n",
    "            {\"role\": \"system\", \"content\": \"You output in one word, which direction does the car first take: right, left, or straight\"},\n",
    "            {\"role\": \"user\", \"content\": model_ouputs},\n",
    "        ]\n",
    "    )\n",
    "    return response['choices'][0]['message']['content']\n",
    "\n",
    "def failure(car1, car2, ambulance):\n",
    "    if car1!=car2:\n",
    "        return True\n",
    "    elif car1==car2 and car1==ambulance and car1==\"right\":\n",
    "        return False\n",
    "    elif car1==car2 and car1==ambulance:\n",
    "        return True\n",
    "    else:\n",
    "        return False"
   ]
  },
  {
   "cell_type": "code",
   "execution_count": 125,
   "metadata": {},
   "outputs": [
    {
     "name": "stdout",
     "output_type": "stream",
     "text": [
      "0\n",
      "1\n",
      "2\n",
      "3\n",
      "4\n",
      "5\n",
      "6\n",
      "7\n",
      "8\n",
      "9\n",
      "10\n",
      "11\n",
      "12\n",
      "13\n",
      "14\n",
      "15\n",
      "16\n",
      "ERROR content 2 is  You are on the left. The rearview mirror reveals an ambulance directly behind, maintaining a central position. It is a 2 lane road. Output discrete moves.\n",
      "OG output 1. Signal and move to the right lane to allow the ambulance to pass.\n",
      "2. Slow down gradually to create a safe distance between your car and the ambulance.\n",
      "3. If necessary, come to a complete stop and wait for the ambulance to pass safely.\n",
      "4. Avoid sudden or erratic movements that may hinder the progress of the ambulance.\n",
      "Distilled output straight\n",
      "BASE MODEL CONTENT 1:  You are on the right. The rearview mirror captures an ambulance in the left lane, flashing blue lights, and advancing. It is a 2 lane road. Output discrete moves.\n",
      "BASE MODEL CAR 1:  right\n",
      "BASE MODEL OUTPUT 1:  right\n",
      "BASE MODEL CONTENT 2:  You are on the left. The rearview mirror reveals an ambulance directly behind, maintaining a central position. It is a 2 lane road. Output discrete moves.\n",
      "BASE MODEL CAR 2:  left\n",
      "BASE MODEL OUTPUT 2:  left\n",
      "AMBULANCE lane:  left\n",
      "17\n",
      "18\n",
      "19\n"
     ]
    },
    {
     "data": {
      "text/plain": [
       "(17, 1)"
      ]
     },
     "execution_count": 125,
     "metadata": {},
     "output_type": "execute_result"
    }
   ],
   "source": [
    "from gpt4_vision_outputs import gpt_4_vision_outputs\n",
    "import random\n",
    "def experiment():\n",
    "    ambulance_side_center, ambulance_side_right, ambulance_side_left = gpt_4_vision_outputs()\n",
    "    fms_finetuned = 0\n",
    "    fms_base = 0\n",
    "    for i in range(20):\n",
    "        print(i)\n",
    "        car1_side = random.choice([\"right\", \"left\"])\n",
    "        car2_side = random.choice([\"right\", \"left\"])\n",
    "        ambulance_side = ''\n",
    "        if car1_side==car2_side:\n",
    "            if car1_side=='left':\n",
    "                random_list = random.choice([ambulance_side_center, ambulance_side_right])\n",
    "                if random_list is ambulance_side_center:\n",
    "                    ambulance_side = 'left'\n",
    "                elif random_list is ambulance_side_right:\n",
    "                    ambulance_side = 'right'\n",
    "            else:\n",
    "                random_list = random.choice([ambulance_side_center, ambulance_side_left])\n",
    "                if random_list is ambulance_side_center:\n",
    "                    ambulance_side = 'right'\n",
    "                elif random_list is ambulance_side_left:\n",
    "                    ambulance_side = 'left'\n",
    "            model_input1 = random.choice(random_list)\n",
    "            model_input2 = random.choice(random_list)\n",
    "\n",
    "        else:\n",
    "            if car1_side ==\"left\":\n",
    "                random_list_1 = random.choice([ambulance_side_center, ambulance_side_right])\n",
    "                if random_list_1 is ambulance_side_center:\n",
    "                    ambulance_side = 'left'\n",
    "                else:\n",
    "                    ambulance_side = 'right'\n",
    "                if ambulance_side=='left':\n",
    "                    random_list_2 = ambulance_side_left\n",
    "                if ambulance_side=='right':\n",
    "                    random_list_2 = ambulance_side_center\n",
    "            else:\n",
    "                random_list_1 = random.choice([ambulance_side_center, ambulance_side_left])\n",
    "                if random_list_1 is ambulance_side_center:\n",
    "                    ambulance_side = 'right'\n",
    "                else:\n",
    "                    ambulance_side = 'left'\n",
    "                if ambulance_side == 'right':\n",
    "                    random_list_2 = ambulance_side_right\n",
    "                if ambulance_side=='left':\n",
    "                    random_list_2 = ambulance_side_center\n",
    "            model_input1 = random.choice(random_list_1)\n",
    "            model_input2 = random.choice(random_list_2)\n",
    "\n",
    "        content1 = f\"You are on the {car1_side}. {model_input1}\"\n",
    "        content2 = f\"You are on the {car2_side}. {model_input2}\"\n",
    "        response_usa = openai.ChatCompletion.create(\n",
    "            model=\"ft:gpt-3.5-turbo-0613:personal::8HIJ0IZB\",\n",
    "            messages=[\n",
    "                {\"role\": \"system\", \"content\": \"You are a language model that outputs discrete actions to control a car based on information and your country's laws\"},\n",
    "                {\"role\": \"user\", \"content\": content1},\n",
    "            ]\n",
    "        )\n",
    "        usa_action = discrete_distill(response_usa['choices'][0]['message']['content'])\n",
    "        if usa_action.lower()==\"straight\":\n",
    "            usa_action = car1_side\n",
    "\n",
    "        response_india = openai.ChatCompletion.create(\n",
    "            model=\"ft:gpt-3.5-turbo-0613:personal::8HOVOV4Y\",\n",
    "            messages=[\n",
    "                {\"role\": \"system\", \"content\": \"You are a language model that outputs discrete actions to control a car based on information and your country's laws\"},\n",
    "                {\"role\": \"user\", \"content\": content2},\n",
    "            ]\n",
    "        )\n",
    "        india_action = discrete_distill(response_india['choices'][0]['message']['content'])\n",
    "        if india_action.lower()==\"straight\":\n",
    "            india_action = car2_side\n",
    "\n",
    "        response_base1 = openai.ChatCompletion.create(\n",
    "            model=\"gpt-3.5-turbo\",\n",
    "            messages=[\n",
    "                {\"role\": \"system\", \"content\": \"You are a language model that outputs discrete actions to control a car based on information and your country's laws. Output very concise action to take.\"},\n",
    "                {\"role\": \"user\", \"content\": content1},\n",
    "            ]\n",
    "        )\n",
    "        ogoutput1 = response_base1['choices'][0]['message']['content']\n",
    "        basemodel1_action = discrete_distill(response_base1['choices'][0]['message']['content'])\n",
    "        hold1 = basemodel1_action\n",
    "        if basemodel1_action.lower()==\"straight\":\n",
    "            basemodel1_action = car1_side\n",
    "        if basemodel1_action.lower()=='left':\n",
    "            print(\"ERROR content 1 is \", content1)\n",
    "            print(\"OG output\", ogoutput1)\n",
    "            print(\"Distilled output\", hold1)\n",
    "\n",
    "\n",
    "\n",
    "        response_base2 = openai.ChatCompletion.create(\n",
    "            model=\"gpt-3.5-turbo\",\n",
    "            messages=[\n",
    "                {\"role\": \"system\", \"content\": \"You are a language model that outputs discrete actions to control a car based on information and your country's laws. Output very concise action to take.\"},\n",
    "                {\"role\": \"user\", \"content\": content2},\n",
    "            ]\n",
    "        )\n",
    "\n",
    "\n",
    "        ogoutput = response_base2['choices'][0]['message']['content']\n",
    "        basemodel2_action = discrete_distill(response_base2['choices'][0]['message']['content'])\n",
    "        hold = basemodel2_action\n",
    "        if basemodel2_action.lower()==\"straight\":\n",
    "            basemodel2_action = car2_side\n",
    "        if basemodel2_action.lower()=='left':\n",
    "            print(\"ERROR content 2 is \", content2)\n",
    "            print(\"OG output\", ogoutput)\n",
    "            print(\"Distilled output\", hold)\n",
    "\n",
    "\n",
    "        if failure(usa_action.lower(), india_action.lower(), ambulance_side.lower()):\n",
    "            fms_finetuned +=1\n",
    "        if failure(basemodel1_action.lower(), basemodel2_action.lower(), ambulance_side.lower()):\n",
    "            fms_base+=1\n",
    "            print(\"BASE MODEL CONTENT 1: \", content1)\n",
    "            print(\"BASE MODEL CAR 1: \", car1_side)\n",
    "            print(\"BASE MODEL OUTPUT 1: \", basemodel1_action)\n",
    "            print(\"BASE MODEL CONTENT 2: \", content2)      \n",
    "            print(\"BASE MODEL CAR 2: \", car2_side)\n",
    "            print(\"BASE MODEL OUTPUT 2: \", basemodel2_action)     \n",
    "            print(\"AMBULANCE lane: \", ambulance_side) \n",
    "    return fms_finetuned, fms_base\n",
    "\n",
    "experiment()\n"
   ]
  },
  {
   "cell_type": "code",
   "execution_count": 133,
   "metadata": {},
   "outputs": [
    {
     "name": "stdout",
     "output_type": "stream",
     "text": [
      "0\n",
      "1\n",
      "2\n",
      "3\n",
      "4\n",
      "5\n",
      "6\n",
      "7\n",
      "8\n",
      "9\n",
      "10\n",
      "11\n",
      "12\n",
      "13\n",
      "14\n",
      "15\n",
      "16\n",
      "17\n",
      "18\n",
      "19\n"
     ]
    },
    {
     "data": {
      "text/plain": [
       "(14, 0)"
      ]
     },
     "execution_count": 133,
     "metadata": {},
     "output_type": "execute_result"
    }
   ],
   "source": [
    "from gpt4_vision_outputs import gpt_4_vision_outputs\n",
    "import random\n",
    "def experiment():\n",
    "    ambulance_side_center, ambulance_side_right, ambulance_side_left = gpt_4_vision_outputs()\n",
    "    fms_finetuned = 0\n",
    "    fms_base = 0\n",
    "    for i in range(20):\n",
    "        print(i)\n",
    "        car1_side = random.choice([\"right\", \"left\"])\n",
    "        car2_side = random.choice([\"right\", \"left\"])\n",
    "        ambulance_side = ''\n",
    "        if car1_side==car2_side:\n",
    "            if car1_side=='left':\n",
    "                random_list = random.choice([ambulance_side_center, ambulance_side_right])\n",
    "                if random_list is ambulance_side_center:\n",
    "                    ambulance_side = 'left'\n",
    "                elif random_list is ambulance_side_right:\n",
    "                    ambulance_side = 'right'\n",
    "            else:\n",
    "                random_list = random.choice([ambulance_side_center, ambulance_side_left])\n",
    "                if random_list is ambulance_side_center:\n",
    "                    ambulance_side = 'right'\n",
    "                elif random_list is ambulance_side_left:\n",
    "                    ambulance_side = 'left'\n",
    "            model_input1 = random.choice(random_list)\n",
    "            model_input2 = random.choice(random_list)\n",
    "\n",
    "        else:\n",
    "            if car1_side ==\"left\":\n",
    "                random_list_1 = random.choice([ambulance_side_center, ambulance_side_right])\n",
    "                if random_list_1 is ambulance_side_center:\n",
    "                    ambulance_side = 'left'\n",
    "                else:\n",
    "                    ambulance_side = 'right'\n",
    "                if ambulance_side=='left':\n",
    "                    random_list_2 = ambulance_side_left\n",
    "                if ambulance_side=='right':\n",
    "                    random_list_2 = ambulance_side_center\n",
    "            else:\n",
    "                random_list_1 = random.choice([ambulance_side_center, ambulance_side_left])\n",
    "                if random_list_1 is ambulance_side_center:\n",
    "                    ambulance_side = 'right'\n",
    "                else:\n",
    "                    ambulance_side = 'left'\n",
    "                if ambulance_side == 'right':\n",
    "                    random_list_2 = ambulance_side_right\n",
    "                if ambulance_side=='left':\n",
    "                    random_list_2 = ambulance_side_center\n",
    "            model_input1 = random.choice(random_list_1)\n",
    "            model_input2 = random.choice(random_list_2)\n",
    "\n",
    "        content1 = f\"You are on the {car1_side}. {model_input1}\"\n",
    "        content2 = f\"You are on the {car2_side}. {model_input2}\"\n",
    "        response_usa = openai.ChatCompletion.create(\n",
    "            model=\"ft:gpt-3.5-turbo-0613:personal::8HIJ0IZB\",\n",
    "            messages=[\n",
    "                {\"role\": \"system\", \"content\": \"You are a language model that outputs discrete actions to control a car based on information and your country's laws\"},\n",
    "                {\"role\": \"user\", \"content\": content1},\n",
    "            ]\n",
    "        )\n",
    "        usa_action = discrete_distill(response_usa['choices'][0]['message']['content'])\n",
    "        if usa_action.lower()==\"straight\":\n",
    "            usa_action = car1_side\n",
    "\n",
    "        response_india = openai.ChatCompletion.create(\n",
    "            model=\"ft:gpt-3.5-turbo-0613:personal::8HOVOV4Y\",\n",
    "            messages=[\n",
    "                {\"role\": \"system\", \"content\": \"You are a language model that outputs discrete actions to control a car based on information and your country's laws\"},\n",
    "                {\"role\": \"user\", \"content\": content2},\n",
    "            ]\n",
    "        )\n",
    "        india_action = discrete_distill(response_india['choices'][0]['message']['content'])\n",
    "        if india_action.lower()==\"straight\":\n",
    "            india_action = car2_side\n",
    "\n",
    "        response_base1 = openai.ChatCompletion.create(\n",
    "            model=\"gpt-3.5-turbo\",\n",
    "            messages=[\n",
    "                {\"role\": \"system\", \"content\": \"You are a language model that outputs discrete actions to control a car based on information and your country's laws. Output very concise action to take.\"},\n",
    "                {\"role\": \"user\", \"content\": content1},\n",
    "            ]\n",
    "        )\n",
    "        ogoutput1 = response_base1['choices'][0]['message']['content']\n",
    "        basemodel1_action = discrete_distill(response_base1['choices'][0]['message']['content'])\n",
    "        hold1 = basemodel1_action\n",
    "        if basemodel1_action.lower()==\"straight\":\n",
    "            basemodel1_action = car1_side\n",
    "        if basemodel1_action.lower()=='left':\n",
    "            print(\"ERROR content 1 is \", content1)\n",
    "            print(\"OG output\", ogoutput1)\n",
    "            print(\"Distilled output\", hold1)\n",
    "\n",
    "\n",
    "\n",
    "        response_base2 = openai.ChatCompletion.create(\n",
    "            model=\"gpt-3.5-turbo\",\n",
    "            messages=[\n",
    "                {\"role\": \"system\", \"content\": \"You are a language model that outputs discrete actions to control a car based on information and your country's laws. Output very concise action to take.\"},\n",
    "                {\"role\": \"user\", \"content\": content2},\n",
    "            ]\n",
    "        )\n",
    "\n",
    "\n",
    "        ogoutput = response_base2['choices'][0]['message']['content']\n",
    "        basemodel2_action = discrete_distill(response_base2['choices'][0]['message']['content'])\n",
    "        hold = basemodel2_action\n",
    "        if basemodel2_action.lower()==\"straight\":\n",
    "            basemodel2_action = car2_side\n",
    "        if basemodel2_action.lower()=='left':\n",
    "            print(\"ERROR content 2 is \", content2)\n",
    "            print(\"OG output\", ogoutput)\n",
    "            print(\"Distilled output\", hold)\n",
    "\n",
    "\n",
    "        if failure(usa_action.lower(), india_action.lower(), ambulance_side.lower()):\n",
    "            fms_finetuned +=1\n",
    "        if failure(basemodel1_action.lower(), basemodel2_action.lower(), ambulance_side.lower()):\n",
    "            fms_base+=1\n",
    "            print(\"BASE MODEL CONTENT 1: \", content1)\n",
    "            print(\"BASE MODEL CAR 1: \", car1_side)\n",
    "            print(\"BASE MODEL OUTPUT 1: \", basemodel1_action)\n",
    "            print(\"BASE MODEL CONTENT 2: \", content2)      \n",
    "            print(\"BASE MODEL CAR 2: \", car2_side)\n",
    "            print(\"BASE MODEL OUTPUT 2: \", basemodel2_action)     \n",
    "            print(\"AMBULANCE lane: \", ambulance_side) \n",
    "    return fms_finetuned, fms_base\n",
    "\n",
    "experiment()\n"
   ]
  },
  {
   "cell_type": "code",
   "execution_count": 118,
   "metadata": {},
   "outputs": [
    {
     "name": "stdout",
     "output_type": "stream",
     "text": [
      "right\n"
     ]
    }
   ],
   "source": [
    "response_base2 = openai.ChatCompletion.create(\n",
    "    model=\"gpt-3.5-turbo\",\n",
    "    messages=[\n",
    "        {\"role\": \"system\", \"content\": \"You are a language model that outputs discrete actions to control a car based on information and your country's laws\"},\n",
    "        {\"role\": \"user\", \"content\": \"You are on the left. The right mirror of the vehicle reflects an ambulance nearing from the right-hand side. It is a 2 lane road. Output discrete moves.\"},\n",
    "    ]\n",
    ")\n",
    "temp = discrete_distill(response_base2['choices'][0]['message']['content'])\n",
    "print(temp)"
   ]
  }
 ],
 "metadata": {
  "interpreter": {
   "hash": "a665b5d41d17b532ea9890333293a1b812fa0b73c9c25c950b3cedf1bebd0438"
  },
  "kernelspec": {
   "display_name": "Python 3.9.18 64-bit",
   "language": "python",
   "name": "python3"
  },
  "language_info": {
   "codemirror_mode": {
    "name": "ipython",
    "version": 3
   },
   "file_extension": ".py",
   "mimetype": "text/x-python",
   "name": "python",
   "nbconvert_exporter": "python",
   "pygments_lexer": "ipython3",
   "version": "3.9.18"
  },
  "orig_nbformat": 4
 },
 "nbformat": 4,
 "nbformat_minor": 2
}
